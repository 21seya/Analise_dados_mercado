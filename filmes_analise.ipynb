{
 "cells": [
  {
   "cell_type": "code",
   "execution_count": 1,
   "metadata": {},
   "outputs": [],
   "source": [
    "import pandas as pd"
   ]
  },
  {
   "cell_type": "code",
   "execution_count": 2,
   "metadata": {},
   "outputs": [],
   "source": [
    "dados_html = pd.read_html('Filmes_Wikipedia.html')"
   ]
  },
  {
   "cell_type": "code",
   "execution_count": 3,
   "metadata": {},
   "outputs": [
    {
     "data": {
      "text/plain": [
       "[                                                    0  \\\n",
       " 0                                                1998   \n",
       " 1                                                1999   \n",
       " 2                                                2000   \n",
       " 3                                                2001   \n",
       " 4                                                2002   \n",
       " 5                                                2003   \n",
       " 6                                                2004   \n",
       " 7                                                2005   \n",
       " 8                                                2005   \n",
       " 9                                                2006   \n",
       " 10                                               2006   \n",
       " 11                                               2007   \n",
       " 12                                               2008   \n",
       " 13  .mw-parser-output .hlist dl,.mw-parser-output ...   \n",
       " \n",
       "                                                     1  \n",
       " 0                                          100 Movies  \n",
       " 1                                           100 Stars  \n",
       " 2                                          100 Laughs  \n",
       " 3                                         100 Thrills  \n",
       " 4                                        100 Passions  \n",
       " 5                               100 Heroes & Villains  \n",
       " 6                                           100 Songs  \n",
       " 7                                    100 Movie Quotes  \n",
       " 8                                           25 Scores  \n",
       " 9                                          100 Cheers  \n",
       " 10                                        25 Musicals  \n",
       " 11                               100 Movies (Updated)  \n",
       " 12                                    AFI's 10 Top 10  \n",
       " 13  .mw-parser-output .hlist dl,.mw-parser-output ...  ,\n",
       "                              Film  Release year                   Director  \\\n",
       " 0                    Citizen Kane          1941               Orson Welles   \n",
       " 1                   The Godfather          1972       Francis Ford Coppola   \n",
       " 2                      Casablanca          1942             Michael Curtiz   \n",
       " 3                     Raging Bull          1980            Martin Scorsese   \n",
       " 4             Singin' in the Rain          1952  Gene Kelly, Stanley Donen   \n",
       " ..                            ...           ...                        ...   \n",
       " 118                        Patton          1970      Franklin J. Schaffner   \n",
       " 119               The Jazz Singer          1927              Alan Crosland   \n",
       " 120                  My Fair Lady          1964               George Cukor   \n",
       " 121            A Place in the Sun          1951             George Stevens   \n",
       " 122  Guess Who's Coming to Dinner          1967             Stanley Kramer   \n",
       " \n",
       "                            Production companies 1998 Rank 2007 Rank  \n",
       " 0                            RKO Radio Pictures         1         1  \n",
       " 1        Paramount Pictures, Alfran Productions         3         2  \n",
       " 2                         Warner Bros. Pictures         2         3  \n",
       " 3                  Chartoff-Winkler Productions        24         4  \n",
       " 4                           Metro-Goldwyn-Mayer        10         5  \n",
       " ..                                          ...       ...       ...  \n",
       " 118                            20th Century-Fox        89         -  \n",
       " 119  Warner Bros. Pictures, The Vitaphone Corp.        90         -  \n",
       " 120                       Warner Bros. Pictures        91         -  \n",
       " 121                          Paramount Pictures        92         -  \n",
       " 122                           Columbia Pictures        99         -  \n",
       " \n",
       " [123 rows x 6 columns]]"
      ]
     },
     "execution_count": 3,
     "metadata": {},
     "output_type": "execute_result"
    }
   ],
   "source": [
    "dados_html"
   ]
  },
  {
   "cell_type": "code",
   "execution_count": 4,
   "metadata": {},
   "outputs": [
    {
     "data": {
      "text/plain": [
       "list"
      ]
     },
     "execution_count": 4,
     "metadata": {},
     "output_type": "execute_result"
    }
   ],
   "source": [
    "type(dados_html)"
   ]
  },
  {
   "cell_type": "code",
   "execution_count": 5,
   "metadata": {},
   "outputs": [
    {
     "data": {
      "text/plain": [
       "2"
      ]
     },
     "execution_count": 5,
     "metadata": {},
     "output_type": "execute_result"
    }
   ],
   "source": [
    "len(dados_html) "
   ]
  },
  {
   "cell_type": "code",
   "execution_count": 6,
   "metadata": {},
   "outputs": [],
   "source": [
    "top_filmes = dados_html[1]"
   ]
  },
  {
   "cell_type": "code",
   "execution_count": 7,
   "metadata": {},
   "outputs": [
    {
     "data": {
      "text/html": [
       "<div>\n",
       "<style scoped>\n",
       "    .dataframe tbody tr th:only-of-type {\n",
       "        vertical-align: middle;\n",
       "    }\n",
       "\n",
       "    .dataframe tbody tr th {\n",
       "        vertical-align: top;\n",
       "    }\n",
       "\n",
       "    .dataframe thead th {\n",
       "        text-align: right;\n",
       "    }\n",
       "</style>\n",
       "<table border=\"1\" class=\"dataframe\">\n",
       "  <thead>\n",
       "    <tr style=\"text-align: right;\">\n",
       "      <th></th>\n",
       "      <th>Film</th>\n",
       "      <th>Release year</th>\n",
       "      <th>Director</th>\n",
       "      <th>Production companies</th>\n",
       "      <th>1998 Rank</th>\n",
       "      <th>2007 Rank</th>\n",
       "    </tr>\n",
       "  </thead>\n",
       "  <tbody>\n",
       "    <tr>\n",
       "      <th>0</th>\n",
       "      <td>Citizen Kane</td>\n",
       "      <td>1941</td>\n",
       "      <td>Orson Welles</td>\n",
       "      <td>RKO Radio Pictures</td>\n",
       "      <td>1</td>\n",
       "      <td>1</td>\n",
       "    </tr>\n",
       "    <tr>\n",
       "      <th>1</th>\n",
       "      <td>The Godfather</td>\n",
       "      <td>1972</td>\n",
       "      <td>Francis Ford Coppola</td>\n",
       "      <td>Paramount Pictures, Alfran Productions</td>\n",
       "      <td>3</td>\n",
       "      <td>2</td>\n",
       "    </tr>\n",
       "    <tr>\n",
       "      <th>2</th>\n",
       "      <td>Casablanca</td>\n",
       "      <td>1942</td>\n",
       "      <td>Michael Curtiz</td>\n",
       "      <td>Warner Bros. Pictures</td>\n",
       "      <td>2</td>\n",
       "      <td>3</td>\n",
       "    </tr>\n",
       "    <tr>\n",
       "      <th>3</th>\n",
       "      <td>Raging Bull</td>\n",
       "      <td>1980</td>\n",
       "      <td>Martin Scorsese</td>\n",
       "      <td>Chartoff-Winkler Productions</td>\n",
       "      <td>24</td>\n",
       "      <td>4</td>\n",
       "    </tr>\n",
       "    <tr>\n",
       "      <th>4</th>\n",
       "      <td>Singin' in the Rain</td>\n",
       "      <td>1952</td>\n",
       "      <td>Gene Kelly, Stanley Donen</td>\n",
       "      <td>Metro-Goldwyn-Mayer</td>\n",
       "      <td>10</td>\n",
       "      <td>5</td>\n",
       "    </tr>\n",
       "    <tr>\n",
       "      <th>...</th>\n",
       "      <td>...</td>\n",
       "      <td>...</td>\n",
       "      <td>...</td>\n",
       "      <td>...</td>\n",
       "      <td>...</td>\n",
       "      <td>...</td>\n",
       "    </tr>\n",
       "    <tr>\n",
       "      <th>118</th>\n",
       "      <td>Patton</td>\n",
       "      <td>1970</td>\n",
       "      <td>Franklin J. Schaffner</td>\n",
       "      <td>20th Century-Fox</td>\n",
       "      <td>89</td>\n",
       "      <td>-</td>\n",
       "    </tr>\n",
       "    <tr>\n",
       "      <th>119</th>\n",
       "      <td>The Jazz Singer</td>\n",
       "      <td>1927</td>\n",
       "      <td>Alan Crosland</td>\n",
       "      <td>Warner Bros. Pictures, The Vitaphone Corp.</td>\n",
       "      <td>90</td>\n",
       "      <td>-</td>\n",
       "    </tr>\n",
       "    <tr>\n",
       "      <th>120</th>\n",
       "      <td>My Fair Lady</td>\n",
       "      <td>1964</td>\n",
       "      <td>George Cukor</td>\n",
       "      <td>Warner Bros. Pictures</td>\n",
       "      <td>91</td>\n",
       "      <td>-</td>\n",
       "    </tr>\n",
       "    <tr>\n",
       "      <th>121</th>\n",
       "      <td>A Place in the Sun</td>\n",
       "      <td>1951</td>\n",
       "      <td>George Stevens</td>\n",
       "      <td>Paramount Pictures</td>\n",
       "      <td>92</td>\n",
       "      <td>-</td>\n",
       "    </tr>\n",
       "    <tr>\n",
       "      <th>122</th>\n",
       "      <td>Guess Who's Coming to Dinner</td>\n",
       "      <td>1967</td>\n",
       "      <td>Stanley Kramer</td>\n",
       "      <td>Columbia Pictures</td>\n",
       "      <td>99</td>\n",
       "      <td>-</td>\n",
       "    </tr>\n",
       "  </tbody>\n",
       "</table>\n",
       "<p>123 rows × 6 columns</p>\n",
       "</div>"
      ],
      "text/plain": [
       "                             Film  Release year                   Director  \\\n",
       "0                    Citizen Kane          1941               Orson Welles   \n",
       "1                   The Godfather          1972       Francis Ford Coppola   \n",
       "2                      Casablanca          1942             Michael Curtiz   \n",
       "3                     Raging Bull          1980            Martin Scorsese   \n",
       "4             Singin' in the Rain          1952  Gene Kelly, Stanley Donen   \n",
       "..                            ...           ...                        ...   \n",
       "118                        Patton          1970      Franklin J. Schaffner   \n",
       "119               The Jazz Singer          1927              Alan Crosland   \n",
       "120                  My Fair Lady          1964               George Cukor   \n",
       "121            A Place in the Sun          1951             George Stevens   \n",
       "122  Guess Who's Coming to Dinner          1967             Stanley Kramer   \n",
       "\n",
       "                           Production companies 1998 Rank 2007 Rank  \n",
       "0                            RKO Radio Pictures         1         1  \n",
       "1        Paramount Pictures, Alfran Productions         3         2  \n",
       "2                         Warner Bros. Pictures         2         3  \n",
       "3                  Chartoff-Winkler Productions        24         4  \n",
       "4                           Metro-Goldwyn-Mayer        10         5  \n",
       "..                                          ...       ...       ...  \n",
       "118                            20th Century-Fox        89         -  \n",
       "119  Warner Bros. Pictures, The Vitaphone Corp.        90         -  \n",
       "120                       Warner Bros. Pictures        91         -  \n",
       "121                          Paramount Pictures        92         -  \n",
       "122                           Columbia Pictures        99         -  \n",
       "\n",
       "[123 rows x 6 columns]"
      ]
     },
     "execution_count": 7,
     "metadata": {},
     "output_type": "execute_result"
    }
   ],
   "source": [
    "top_filmes"
   ]
  },
  {
   "cell_type": "code",
   "execution_count": 8,
   "metadata": {},
   "outputs": [],
   "source": [
    "top_filmes.to_html('top_filmes.html')"
   ]
  },
  {
   "cell_type": "code",
   "execution_count": null,
   "metadata": {},
   "outputs": [],
   "source": []
  }
 ],
 "metadata": {
  "kernelspec": {
   "display_name": "Python 3",
   "language": "python",
   "name": "python3"
  },
  "language_info": {
   "codemirror_mode": {
    "name": "ipython",
    "version": 3
   },
   "file_extension": ".py",
   "mimetype": "text/x-python",
   "name": "python",
   "nbconvert_exporter": "python",
   "pygments_lexer": "ipython3",
   "version": "3.9.2"
  }
 },
 "nbformat": 4,
 "nbformat_minor": 2
}
